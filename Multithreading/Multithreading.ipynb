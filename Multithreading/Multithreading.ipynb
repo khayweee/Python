{
 "cells": [
  {
   "cell_type": "markdown",
   "metadata": {},
   "source": [
    "# Multithreading"
   ]
  },
  {
   "cell_type": "code",
   "execution_count": 1,
   "metadata": {},
   "outputs": [],
   "source": [
    "import threading\n",
    "import time"
   ]
  },
  {
   "cell_type": "markdown",
   "metadata": {},
   "source": [
    "## No Thread"
   ]
  },
  {
   "cell_type": "code",
   "execution_count": 2,
   "metadata": {},
   "outputs": [],
   "source": [
    "start = time.perf_counter()"
   ]
  },
  {
   "cell_type": "code",
   "execution_count": 3,
   "metadata": {},
   "outputs": [],
   "source": [
    "def do_something(seconds = 1):\n",
    "    print(f'Sleeping {seconds} second...')\n",
    "    time.sleep(seconds)\n",
    "    print('Done Sleeping...')\n",
    "    "
   ]
  },
  {
   "cell_type": "code",
   "execution_count": 4,
   "metadata": {},
   "outputs": [
    {
     "name": "stdout",
     "output_type": "stream",
     "text": [
      "Sleeping 1 second...\n",
      "Done Sleeping...\n",
      "Sleeping 1 second...\n",
      "Done Sleeping...\n"
     ]
    }
   ],
   "source": [
    "do_something()\n",
    "do_something()"
   ]
  },
  {
   "cell_type": "code",
   "execution_count": 5,
   "metadata": {},
   "outputs": [],
   "source": [
    "finish = time.perf_counter()"
   ]
  },
  {
   "cell_type": "code",
   "execution_count": 6,
   "metadata": {},
   "outputs": [
    {
     "name": "stdout",
     "output_type": "stream",
     "text": [
      "Finished in 7.13 second(s)\n"
     ]
    }
   ],
   "source": [
    "print(f'Finished in {round(finish-start,2)} second(s)')"
   ]
  },
  {
   "cell_type": "markdown",
   "metadata": {},
   "source": [
    "## Threading\n",
    "assign function into target without assigning atribute"
   ]
  },
  {
   "cell_type": "code",
   "execution_count": 10,
   "metadata": {},
   "outputs": [],
   "source": [
    "t1 = threading.Thread(target=do_something)\n",
    "t2 = threading.Thread(target=do_something)"
   ]
  },
  {
   "cell_type": "code",
   "execution_count": 11,
   "metadata": {},
   "outputs": [
    {
     "name": "stdout",
     "output_type": "stream",
     "text": [
      "Sleeping 1 second...\n",
      "Sleeping 1 second...\n",
      "Done Sleeping...Done Sleeping...\n",
      "\n",
      "Finished in 1.01 second(s)\n"
     ]
    }
   ],
   "source": [
    "start = time.perf_counter()\n",
    "t1.start()\n",
    "t2.start()\n",
    "\n",
    "t1.join()\n",
    "t2.join()\n",
    "finish = time.perf_counter()\n",
    "print(f'Finished in {round(finish-start,2)} second(s)')"
   ]
  },
  {
   "cell_type": "code",
   "execution_count": 12,
   "metadata": {},
   "outputs": [
    {
     "name": "stdout",
     "output_type": "stream",
     "text": [
      "Sleeping 1 second...\n",
      "Sleeping 1 second...\n",
      "Sleeping 1 second...\n",
      "Sleeping 1 second...Sleeping 1 second...\n",
      "Sleeping 1 second...\n",
      "\n",
      "Sleeping 1 second...\n",
      "Sleeping 1 second...\n",
      "Sleeping 1 second...\n",
      "Sleeping 1 second...\n",
      "Done Sleeping...Done Sleeping...\n",
      "\n",
      "Done Sleeping...\n",
      "Done Sleeping...Done Sleeping...Done Sleeping...\n",
      "\n",
      "\n",
      "Done Sleeping...\n",
      "Done Sleeping...Done Sleeping...\n",
      "\n",
      "Done Sleeping...\n",
      "Finished in 1.02 second(s)\n"
     ]
    }
   ],
   "source": [
    "#multi thread\n",
    "start = time.perf_counter()\n",
    "threads = []\n",
    "for thread in range(10):\n",
    "    t = threading.Thread(target=do_something, args = [1])\n",
    "    t.start()\n",
    "    threads.append(t)\n",
    "    \n",
    "for thread in threads:\n",
    "    thread.join()\n",
    "    \n",
    "finish = time.perf_counter()\n",
    "print(f'Finished in {round(finish-start,2)} second(s)')"
   ]
  },
  {
   "cell_type": "markdown",
   "metadata": {},
   "source": [
    "# Thread Pool Executor"
   ]
  },
  {
   "cell_type": "code",
   "execution_count": 22,
   "metadata": {},
   "outputs": [],
   "source": [
    "import concurrent.futures"
   ]
  },
  {
   "cell_type": "code",
   "execution_count": 32,
   "metadata": {},
   "outputs": [],
   "source": [
    "def do_something(seconds = 1):\n",
    "    print(f'Sleeping {seconds} second...')\n",
    "    time.sleep(seconds)\n",
    "    return f'Done Sleeping...{seconds}'\n",
    "    "
   ]
  },
  {
   "cell_type": "code",
   "execution_count": 33,
   "metadata": {},
   "outputs": [
    {
     "name": "stdout",
     "output_type": "stream",
     "text": [
      "Sleeping 5 second...\n",
      "Sleeping 4 second...\n",
      "Sleeping 3 second...Sleeping 2 second...\n",
      "\n",
      "Sleeping 1 second...\n",
      "Done Sleeping...1\n",
      "Done Sleeping...2\n",
      "Done Sleeping...3\n",
      "Done Sleeping...4\n",
      "Done Sleeping...5\n",
      "Finished in 5.01 second(s)\n"
     ]
    }
   ],
   "source": [
    "#returning in the order that it finishes first\n",
    "start = time.perf_counter()\n",
    "with concurrent.futures.ThreadPoolExecutor() as executor:\n",
    "    #execute a function one at a time\n",
    "    #executor.submit returns a future object\n",
    "    secs = [5,4,3,2,1]\n",
    "    #results = [executor.submit(do_something, sec) for thread in range(10)]\n",
    "    results = [executor.submit(do_something, sec) for sec in secs]\n",
    "    for f in concurrent.futures.as_completed(results):\n",
    "        print(f.result())\n",
    "\n",
    "    \n",
    "finish = time.perf_counter()\n",
    "print(f'Finished in {round(finish-start,2)} second(s)')"
   ]
  },
  {
   "cell_type": "code",
   "execution_count": 34,
   "metadata": {},
   "outputs": [
    {
     "name": "stdout",
     "output_type": "stream",
     "text": [
      "Sleeping 5 second...\n",
      "Sleeping 4 second...\n",
      "Sleeping 3 second...\n",
      "Sleeping 2 second...\n",
      "Sleeping 1 second...\n",
      "Done Sleeping...5\n",
      "Done Sleeping...4\n",
      "Done Sleeping...3\n",
      "Done Sleeping...2\n",
      "Done Sleeping...1\n",
      "Finished in 5.01 second(s)\n"
     ]
    }
   ],
   "source": [
    "# returning in the order that it was started \n",
    "start = time.perf_counter()\n",
    "with concurrent.futures.ThreadPoolExecutor() as executor:\n",
    "    #execute a function one at a time\n",
    "    #executor.submit returns a future object\n",
    "    secs = [5,4,3,2,1]\n",
    "    results = executor.map(do_something, secs)\n",
    "    \n",
    "    for result in results:\n",
    "        print(result)\n",
    "    \n",
    "finish = time.perf_counter()\n",
    "print(f'Finished in {round(finish-start,2)} second(s)')"
   ]
  },
  {
   "cell_type": "code",
   "execution_count": 13,
   "metadata": {},
   "outputs": [
    {
     "ename": "BrokenProcessPool",
     "evalue": "A process in the process pool was terminated abruptly while the future was running or pending.",
     "output_type": "error",
     "traceback": [
      "\u001b[1;31m---------------------------------------------------------------------------\u001b[0m",
      "\u001b[1;31mBrokenProcessPool\u001b[0m                         Traceback (most recent call last)",
      "\u001b[1;32m<ipython-input-13-9fc27f3ff88c>\u001b[0m in \u001b[0;36m<module>\u001b[1;34m\u001b[0m\n\u001b[0;32m     13\u001b[0m \u001b[1;33m\u001b[0m\u001b[0m\n\u001b[0;32m     14\u001b[0m \u001b[1;32mfor\u001b[0m \u001b[0mf\u001b[0m \u001b[1;32min\u001b[0m \u001b[0mconcurrent\u001b[0m\u001b[1;33m.\u001b[0m\u001b[0mfutures\u001b[0m\u001b[1;33m.\u001b[0m\u001b[0mas_completed\u001b[0m\u001b[1;33m(\u001b[0m\u001b[0mfutures\u001b[0m\u001b[1;33m)\u001b[0m\u001b[1;33m:\u001b[0m\u001b[1;33m\u001b[0m\u001b[1;33m\u001b[0m\u001b[0m\n\u001b[1;32m---> 15\u001b[1;33m         \u001b[0mprint\u001b[0m\u001b[1;33m(\u001b[0m\u001b[0mf\u001b[0m\u001b[1;33m.\u001b[0m\u001b[0mresult\u001b[0m\u001b[1;33m(\u001b[0m\u001b[1;33m)\u001b[0m\u001b[1;33m)\u001b[0m\u001b[1;33m\u001b[0m\u001b[1;33m\u001b[0m\u001b[0m\n\u001b[0m",
      "\u001b[1;32m~\\anaconda3\\lib\\concurrent\\futures\\_base.py\u001b[0m in \u001b[0;36mresult\u001b[1;34m(self, timeout)\u001b[0m\n\u001b[0;32m    430\u001b[0m                 \u001b[1;32mraise\u001b[0m \u001b[0mCancelledError\u001b[0m\u001b[1;33m(\u001b[0m\u001b[1;33m)\u001b[0m\u001b[1;33m\u001b[0m\u001b[1;33m\u001b[0m\u001b[0m\n\u001b[0;32m    431\u001b[0m             \u001b[1;32melif\u001b[0m \u001b[0mself\u001b[0m\u001b[1;33m.\u001b[0m\u001b[0m_state\u001b[0m \u001b[1;33m==\u001b[0m \u001b[0mFINISHED\u001b[0m\u001b[1;33m:\u001b[0m\u001b[1;33m\u001b[0m\u001b[1;33m\u001b[0m\u001b[0m\n\u001b[1;32m--> 432\u001b[1;33m                 \u001b[1;32mreturn\u001b[0m \u001b[0mself\u001b[0m\u001b[1;33m.\u001b[0m\u001b[0m__get_result\u001b[0m\u001b[1;33m(\u001b[0m\u001b[1;33m)\u001b[0m\u001b[1;33m\u001b[0m\u001b[1;33m\u001b[0m\u001b[0m\n\u001b[0m\u001b[0;32m    433\u001b[0m \u001b[1;33m\u001b[0m\u001b[0m\n\u001b[0;32m    434\u001b[0m             \u001b[0mself\u001b[0m\u001b[1;33m.\u001b[0m\u001b[0m_condition\u001b[0m\u001b[1;33m.\u001b[0m\u001b[0mwait\u001b[0m\u001b[1;33m(\u001b[0m\u001b[0mtimeout\u001b[0m\u001b[1;33m)\u001b[0m\u001b[1;33m\u001b[0m\u001b[1;33m\u001b[0m\u001b[0m\n",
      "\u001b[1;32m~\\anaconda3\\lib\\concurrent\\futures\\_base.py\u001b[0m in \u001b[0;36m__get_result\u001b[1;34m(self)\u001b[0m\n\u001b[0;32m    386\u001b[0m     \u001b[1;32mdef\u001b[0m \u001b[0m__get_result\u001b[0m\u001b[1;33m(\u001b[0m\u001b[0mself\u001b[0m\u001b[1;33m)\u001b[0m\u001b[1;33m:\u001b[0m\u001b[1;33m\u001b[0m\u001b[1;33m\u001b[0m\u001b[0m\n\u001b[0;32m    387\u001b[0m         \u001b[1;32mif\u001b[0m \u001b[0mself\u001b[0m\u001b[1;33m.\u001b[0m\u001b[0m_exception\u001b[0m\u001b[1;33m:\u001b[0m\u001b[1;33m\u001b[0m\u001b[1;33m\u001b[0m\u001b[0m\n\u001b[1;32m--> 388\u001b[1;33m             \u001b[1;32mraise\u001b[0m \u001b[0mself\u001b[0m\u001b[1;33m.\u001b[0m\u001b[0m_exception\u001b[0m\u001b[1;33m\u001b[0m\u001b[1;33m\u001b[0m\u001b[0m\n\u001b[0m\u001b[0;32m    389\u001b[0m         \u001b[1;32melse\u001b[0m\u001b[1;33m:\u001b[0m\u001b[1;33m\u001b[0m\u001b[1;33m\u001b[0m\u001b[0m\n\u001b[0;32m    390\u001b[0m             \u001b[1;32mreturn\u001b[0m \u001b[0mself\u001b[0m\u001b[1;33m.\u001b[0m\u001b[0m_result\u001b[0m\u001b[1;33m\u001b[0m\u001b[1;33m\u001b[0m\u001b[0m\n",
      "\u001b[1;31mBrokenProcessPool\u001b[0m: A process in the process pool was terminated abruptly while the future was running or pending."
     ]
    }
   ],
   "source": [
    "import concurrent.futures\n",
    "\n",
    "def try_my_operation(item):\n",
    "    try:\n",
    "        return sum(range(item))\n",
    "    except:\n",
    "        print('error with item')\n",
    "\n",
    "items = [1,2,3,4] \n",
    "executor = concurrent.futures.ProcessPoolExecutor(10)\n",
    "futures = [executor.submit(try_my_operation, item) for item in items]\n",
    "concurrent.futures.wait(futures)\n",
    "\n",
    "for f in concurrent.futures.as_completed(futures):\n",
    "        print(f.result())"
   ]
  },
  {
   "cell_type": "code",
   "execution_count": null,
   "metadata": {},
   "outputs": [],
   "source": []
  }
 ],
 "metadata": {
  "kernelspec": {
   "display_name": "Python 3",
   "language": "python",
   "name": "python3"
  },
  "language_info": {
   "codemirror_mode": {
    "name": "ipython",
    "version": 3
   },
   "file_extension": ".py",
   "mimetype": "text/x-python",
   "name": "python",
   "nbconvert_exporter": "python",
   "pygments_lexer": "ipython3",
   "version": "3.8.8"
  }
 },
 "nbformat": 4,
 "nbformat_minor": 2
}
